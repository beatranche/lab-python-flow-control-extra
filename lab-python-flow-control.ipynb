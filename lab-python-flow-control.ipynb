{
 "cells": [
  {
   "cell_type": "markdown",
   "id": "d3bfc191-8885-42ee-b0a0-bbab867c6f9f",
   "metadata": {
    "tags": []
   },
   "source": [
    "# Lab | Flow Control"
   ]
  },
  {
   "cell_type": "markdown",
   "id": "303cceb0-f898-4c5f-99bd-c04e131e1ded",
   "metadata": {},
   "source": [
    "Objective: Practice how to use programming constructs like if/else statements and loops to control the flow of a program's execution."
   ]
  },
  {
   "cell_type": "markdown",
   "id": "42fd260a-9eb2-4c39-9989-f2c8c70552ec",
   "metadata": {},
   "source": [
    "## Challenge: The Haunted Mansion"
   ]
  },
  {
   "cell_type": "markdown",
   "id": "7086f8f7-ded2-48e5-b966-7ec44fb57ca5",
   "metadata": {},
   "source": [
    "You are a brave adventurer who has decided to explore the Haunted Mansion, a decrepit old building that is rumored to be haunted by ghosts and spirits. Your objective is to find the treasure that is hidden somewhere in the mansion.\n",
    "\n",
    "## Requirements\n",
    "\n",
    "- Your script should have at least two functions: \"run_mansion()\" and \"encounter_ghost()\".\n",
    "- Your script should use if-else statements, while loops, for loops, combined loops, or nested loops to control the flow of execution.\n",
    "- Your script should prompt the user for input to make decisions on which path to take or what actions to perform.\n",
    "- Your script should include random events and obstacles that can either help or hinder the adventurer in their quest.\n",
    "- Your script should have an objective of finding the treasure at the end of the mansion.\n",
    "\n",
    "## Instructions\n",
    "\n",
    "- Begin by creating a list of items that the adventurer can pick up along the way. These items will be used to help the adventurer overcome obstacles and defeat ghosts. Examples of items can be weapons, potions, keys, etc.\n",
    "\n",
    "- Complete the function called \"run_mansion()\" that serves as the main function for the game. Within \"run_mansion()\", prompt the user to choose a path to take at each intersection. Each path should have its unique challenges and obstacles that the adventurer must overcome.\n",
    "\n",
    "- Use loops to check if the adventurer has enough health points to continue the game. If their health points drop to zero, the game is over.\n",
    "\n",
    "- Complete the function called \"encounter_ghost()\" that will be used to handle ghost encounters. The function should use random events to determine the outcome of the encounter, and the adventurer should use their items to help them defeat the ghost.\n",
    "\n",
    "- Use loops to generate random events or items along the way. These events can either help or hinder the adventurer, and the outcome should be based on random chance.\n",
    "\n",
    "- At the end of the mansion, the adventurer will find the treasure, and the game will end.\n",
    "\n"
   ]
  },
  {
   "cell_type": "markdown",
   "id": "8846d61d-cf9d-4ad4-bbb8-1ecb3bb22005",
   "metadata": {},
   "source": [
    "*Introduction to Functions*:\n",
    "\n",
    "    Functions are blocks of code that perform a specific task. They are used to break up complex code into smaller, more manageable parts, which can make your code easier to read and understand. Functions can also be reused multiple times throughout your code, which can save you a lot of time and effort.\n",
    "\n",
    "    Functions are defined using the def keyword, followed by the name of the function and a set of parentheses. Inside the parentheses, you can list any arguments that the function needs in order to perform its task. These arguments are optional, but they can be useful if you need to pass data into the function from outside.\n",
    "\n",
    "    Once you have defined a function, you can call it from anywhere in your code using its name and passing any necessary arguments. When the function is called, the code inside it is executed, and any values that it returns are passed back to the calling code.\n",
    "\n",
    "    In this exercise, we have defined a function called encounter_ghost that simulates a battle between the adventurer and a ghost, and run_mansion. Your task is to complete these functions by using flow control statements such as if, else, while, for loops, and nested loops. Remember to pay attention to the instructions and comments provided in the function to help guide you. Once you have completed the function encounter_ghost, you can call it from the main code to simulate the battle and test your implementation.\n",
    "\n",
    "    Good luck!"
   ]
  },
  {
   "cell_type": "code",
   "execution_count": 1,
   "id": "499552c8-9e30-46e1-a706-4ac5dc64670e",
   "metadata": {},
   "outputs": [],
   "source": [
    "import random\n",
    "\n",
    "\n",
    "def encounter_ghost():\n",
    "    \"\"\"\n",
    "\n",
    "    This function handles the encounter with a ghost.\n",
    "\n",
    "    The outcome of the battle is determined by a random number between 1 and 10.\n",
    "\n",
    "    If the random number is less than or equal to 5, the adventurer defeats the ghost. In this case, print the message \"You defeated the ghost!\"\n",
    "\n",
    "    and return something that indicates the adventurer defeated the ghost.\n",
    "\n",
    "    If the random number is greater than 5, the adventurer loses the battle. In this case, print \"You lost the battle...\"\n",
    "\n",
    "    and return something that indicates the ghost defeated the adventurer.\n",
    "    \"\"\"\n",
    "\n",
    "\n",
    "    print(\"You encounter a ghost!\")\n",
    "\n",
    "    number = random.randint(1, 10)\n",
    "    result = ''\n",
    "    if input(\"Do you want to fight the ghost? (Y/N) \").capitalize == \"Y\":\n",
    "        if number <= 5:\n",
    "            print(\"You defeat the ghost!\")\n",
    "            result = \"win\"\n",
    "        else:\n",
    "            print(\"You lost the battle...\")\n",
    "            result = \"lose\"\n",
    "\n",
    "\n",
    "    return result"
   ]
  },
  {
   "cell_type": "code",
   "execution_count": 2,
   "id": "d3e4076b-48cc-41ac-95ad-891743e775f5",
   "metadata": {},
   "outputs": [],
   "source": [
    "\n",
    "# main function for the game\n",
    "def run_mansion():\n",
    "    \n",
    "    print(\"Welcome to the Haunted Mansion!\")\n",
    "    \n",
    "    \"\"\"\n",
    "    Simulates an adventure through a haunted mansion. The adventurer starts with 10 health points and no items.\n",
    "    Prompt the user to choose between two paths: \"left\" or \"right\". \n",
    "\n",
    "    If they choose \"left\", a random event occurs. There is a 50% chance that the adventurer will find a potion and a 50% chance that they will \n",
    "    fall into a trap and lose 2 health points. If they find the potion, it is saved into the adventurer's items. \n",
    "    If they fall into a trap, 2 points are taken out of the adventurer's health points.\n",
    "\n",
    "    If they choose \"right\", the \"encounter_ghost()\" function is called to handle the battle between the adventurer and the ghost. \n",
    "    If the adventurer wins, they find a key which is saved into the adventurer's items. If they lose, they lose 2 health points.\n",
    "    Hint: remember to check what encounter_ghost() returned to make know if they won or lost.\n",
    "\n",
    "    If the adventurer chooses something other than \"left\" or \"right\", they are prompted to try again.\n",
    "\n",
    "    If the adventurer's health points reach 0 or less, the message \"Game over, you lost all your health points.\" is printed.\n",
    "\n",
    "    If the adventurer has the key, they can unlock the door and find the Treasure. This message is printed \"You unlocked the door and found the \n",
    "    Treasure! Congratulations!\".\n",
    "    If they don't have the key, they are prompted to find it from the beginning.\n",
    "\n",
    "    \"\"\"\n",
    "     \n",
    "    health_points = 10\n",
    "    items = []\n",
    "    number = random.randint(1, 2)\n",
    "    \n",
    "    while health_points > 0:\n",
    "        print(f\"You have {health_points} health points.\")\n",
    "        choose = input(\"Which direction do you want to go? (left/right)\").lower()\n",
    "\n",
    "        if choose == \"left\":\n",
    "            if number == 1:\n",
    "                print(\"You found a potion!\")\n",
    "                items.append(\"potion\")\n",
    "            else:\n",
    "                print(\"You fell into a trap!\")\n",
    "                health_points -= 2  \n",
    "        elif choose == \"right\":\n",
    "            result = encounter_ghost() \n",
    "            if result == \"win\":\n",
    "                items.append(\"key\")\n",
    "                print(\"You unlocked the door and found the Treasure! Congratulations!\")\n",
    "                break\n",
    "            elif result == \"lose\":\n",
    "                health_points -= 2\n",
    "                print(\"You lost the battle...\") \n",
    "        else:\n",
    "            print(\"Invalid input. Please try again.\")        \n",
    "                   \n",
    "    print( \"Game over, you lost all your health points.\" )            \n",
    "        "
   ]
  },
  {
   "cell_type": "markdown",
   "id": "9e13a33c-38e5-44b3-bd1b-9a642c962c89",
   "metadata": {},
   "source": [
    "To run the game, simply call the run_mansion() function:"
   ]
  },
  {
   "cell_type": "code",
   "execution_count": 3,
   "id": "f238dc90-0be2-4d8c-93e9-30a1dc8a5b72",
   "metadata": {},
   "outputs": [
    {
     "name": "stdout",
     "output_type": "stream",
     "text": [
      "Welcome to the Haunted Mansion!\n",
      "You have 10 health points.\n",
      "Invalid input. Please try again.\n",
      "You have 10 health points.\n",
      "You encounter a ghost!\n"
     ]
    },
    {
     "ename": "UnboundLocalError",
     "evalue": "cannot access local variable 'result' where it is not associated with a value",
     "output_type": "error",
     "traceback": [
      "\u001b[1;31m---------------------------------------------------------------------------\u001b[0m",
      "\u001b[1;31mUnboundLocalError\u001b[0m                         Traceback (most recent call last)",
      "Cell \u001b[1;32mIn[3], line 1\u001b[0m\n\u001b[1;32m----> 1\u001b[0m run_mansion()\n",
      "Cell \u001b[1;32mIn[2], line 44\u001b[0m, in \u001b[0;36mrun_mansion\u001b[1;34m()\u001b[0m\n\u001b[0;32m     42\u001b[0m         health_points \u001b[38;5;241m-\u001b[39m\u001b[38;5;241m=\u001b[39m \u001b[38;5;241m2\u001b[39m  \n\u001b[0;32m     43\u001b[0m \u001b[38;5;28;01melif\u001b[39;00m choose \u001b[38;5;241m==\u001b[39m \u001b[38;5;124m\"\u001b[39m\u001b[38;5;124mright\u001b[39m\u001b[38;5;124m\"\u001b[39m:\n\u001b[1;32m---> 44\u001b[0m     result \u001b[38;5;241m=\u001b[39m encounter_ghost() \n\u001b[0;32m     45\u001b[0m     \u001b[38;5;28;01mif\u001b[39;00m result \u001b[38;5;241m==\u001b[39m \u001b[38;5;124m\"\u001b[39m\u001b[38;5;124mwin\u001b[39m\u001b[38;5;124m\"\u001b[39m:\n\u001b[0;32m     46\u001b[0m         items\u001b[38;5;241m.\u001b[39mappend(\u001b[38;5;124m\"\u001b[39m\u001b[38;5;124mkey\u001b[39m\u001b[38;5;124m\"\u001b[39m)\n",
      "Cell \u001b[1;32mIn[1], line 34\u001b[0m, in \u001b[0;36mencounter_ghost\u001b[1;34m()\u001b[0m\n\u001b[0;32m     30\u001b[0m         \u001b[38;5;28mprint\u001b[39m(\u001b[38;5;124m\"\u001b[39m\u001b[38;5;124mYou lost the battle...\u001b[39m\u001b[38;5;124m\"\u001b[39m)\n\u001b[0;32m     31\u001b[0m         result \u001b[38;5;241m=\u001b[39m \u001b[38;5;124m\"\u001b[39m\u001b[38;5;124mlose\u001b[39m\u001b[38;5;124m\"\u001b[39m\n\u001b[1;32m---> 34\u001b[0m \u001b[38;5;28;01mreturn\u001b[39;00m result\n",
      "\u001b[1;31mUnboundLocalError\u001b[0m: cannot access local variable 'result' where it is not associated with a value"
     ]
    }
   ],
   "source": [
    "run_mansion()"
   ]
  },
  {
   "cell_type": "markdown",
   "id": "88212f63-3bdb-479f-bf6c-4ecd0685d39a",
   "metadata": {},
   "source": [
    "This should print the game's narrative and prompt the user to make choices and fight ghosts. The game ends when the adventurer finds the key or loses all their health points. "
   ]
  }
 ],
 "metadata": {
  "kernelspec": {
   "display_name": "Python 3 (ipykernel)",
   "language": "python",
   "name": "python3"
  },
  "language_info": {
   "codemirror_mode": {
    "name": "ipython",
    "version": 3
   },
   "file_extension": ".py",
   "mimetype": "text/x-python",
   "name": "python",
   "nbconvert_exporter": "python",
   "pygments_lexer": "ipython3",
   "version": "3.12.4"
  }
 },
 "nbformat": 4,
 "nbformat_minor": 5
}
